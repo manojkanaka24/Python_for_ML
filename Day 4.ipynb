{
 "cells": [
  {
   "cell_type": "code",
   "execution_count": 8,
   "id": "5029a500",
   "metadata": {},
   "outputs": [
    {
     "data": {
      "text/plain": [
       "2.5"
      ]
     },
     "execution_count": 8,
     "metadata": {},
     "output_type": "execute_result"
    }
   ],
   "source": [
    "ls =[1,2,3,4]\n",
    "def mean(ls):\n",
    "    result = (sum(ls)/len(ls))\n",
    "    return result\n",
    "mean(ls)"
   ]
  },
  {
   "cell_type": "code",
   "execution_count": 9,
   "id": "5d99ce3b",
   "metadata": {},
   "outputs": [
    {
     "data": {
      "text/plain": [
       "2.5"
      ]
     },
     "execution_count": 9,
     "metadata": {},
     "output_type": "execute_result"
    }
   ],
   "source": [
    "from functools import reduce\n",
    "def av(ls):\n",
    "    return reduce(lambda a,b:a+b,ls)/len(ls)\n",
    "av(ls)\n"
   ]
  },
  {
   "cell_type": "code",
   "execution_count": 11,
   "id": "90909bf6",
   "metadata": {},
   "outputs": [
    {
     "data": {
      "text/plain": [
       "<function __main__.<lambda>(ls)>"
      ]
     },
     "execution_count": 11,
     "metadata": {},
     "output_type": "execute_result"
    }
   ],
   "source": [
    "(lambda ls:sum(ls)/len(ls))"
   ]
  },
  {
   "cell_type": "code",
   "execution_count": 12,
   "id": "eed2de92",
   "metadata": {},
   "outputs": [],
   "source": [
    "# list , tuples , dictionaries , sets\n",
    "# functions , for loop , while loop , if else , list comprehension\n",
    "# user defined , func , map , filter , lambda "
   ]
  },
  {
   "cell_type": "code",
   "execution_count": 15,
   "id": "3236ea78",
   "metadata": {},
   "outputs": [
    {
     "data": {
      "text/plain": [
       "{4, 5, 8, 9, 10, 12, 20, 30, 32, 67}"
      ]
     },
     "execution_count": 15,
     "metadata": {},
     "output_type": "execute_result"
    }
   ],
   "source": [
    "ls = [10,20,30,12,32,4,5,67,8,9]\n",
    "set(ls)"
   ]
  },
  {
   "cell_type": "code",
   "execution_count": 27,
   "id": "741ec6f8",
   "metadata": {},
   "outputs": [
    {
     "data": {
      "text/plain": [
       "67"
      ]
     },
     "execution_count": 27,
     "metadata": {},
     "output_type": "execute_result"
    }
   ],
   "source": [
    "def max(x):\n",
    "    maximum = x[0]\n",
    "    for i in x: \n",
    "        if maximum < i:\n",
    "            maximum = i\n",
    "    return maximum\n",
    "        \n",
    "max(ls)\n",
    "  \n",
    "    \n",
    "    "
   ]
  },
  {
   "cell_type": "code",
   "execution_count": 30,
   "id": "59e60005",
   "metadata": {},
   "outputs": [
    {
     "name": "stdout",
     "output_type": "stream",
     "text": [
      "4\n"
     ]
    }
   ],
   "source": [
    "ls =[10,20,60,18,4,5,18,19,13,60,60,60]\n",
    "d = {}\n",
    "\n",
    "largest=max(ls)\n",
    "for i in ls:\n",
    "    if i in d:\n",
    "        d[i]+=1\n",
    "    else:\n",
    "        d[i]=1\n",
    "print(d[largest])"
   ]
  },
  {
   "cell_type": "code",
   "execution_count": 34,
   "id": "eeedee65",
   "metadata": {},
   "outputs": [],
   "source": [
    "d = {}\n",
    "def cnt(x):\n",
    "    for i in ls:\n",
    "        if i in d:\n",
    "            d[i]+=1\n",
    "        else:\n",
    "            d[i]=1\n",
    "    return d"
   ]
  },
  {
   "cell_type": "code",
   "execution_count": 36,
   "id": "39abd347",
   "metadata": {},
   "outputs": [
    {
     "data": {
      "text/plain": [
       "{10: 2, 20: 2, 60: 8, 18: 4, 4: 2, 5: 2, 19: 2, 13: 2}"
      ]
     },
     "execution_count": 36,
     "metadata": {},
     "output_type": "execute_result"
    }
   ],
   "source": [
    "cnt(ls)"
   ]
  },
  {
   "cell_type": "code",
   "execution_count": null,
   "id": "e81fd5c4",
   "metadata": {},
   "outputs": [],
   "source": [
    "s = \"malayalam\"\n",
    "def ispalindrome(s):\n",
    "    return s==s[::-1]\n",
    "ans = ispalindrome(s)\n",
    "if ans:\n",
    "    print(\"true\")\n",
    "else:\n",
    "    print(\"false\")"
   ]
  },
  {
   "cell_type": "code",
   "execution_count": null,
   "id": "4ba0c8be",
   "metadata": {},
   "outputs": [],
   "source": [
    "def is_palindrome(number):\n",
    "    \"\"\"\n",
    "    Function to check if a number is a palindrome.\n",
    "    \"\"\"\n",
    "    Palindrome = 121\n",
    "    rev = 0\n",
    "\n",
    "    while Palindrome != 0:\n",
    "        rem = Palindrome % 10\n",
    "        rev = rev * 10 + rem\n",
    "        Palindrome = Palindrome // 10\n",
    "\n",
    "    if number == rev:\n",
    "        return True\n",
    "\n",
    "    return False\n"
   ]
  },
  {
   "cell_type": "code",
   "execution_count": null,
   "id": "eaa0e384",
   "metadata": {},
   "outputs": [],
   "source": [
    "Num = int(input(\"Enter a value:\"))  \n",
    "Temp = num  \n",
    "Rev = 0  \n",
    "while(num > 0):  \n",
    "    dig = num % 10  \n",
    "    revrev = rev * 10 + dig  \n",
    "    numnum = num // 10  \n",
    "if(temp == rev):  \n",
    "    print(\"This value is a palindrome number!\")  \n",
    "else:  \n",
    "    print(\"This value is not a palindrome number!\")"
   ]
  },
  {
   "cell_type": "code",
   "execution_count": null,
   "id": "602d9a10",
   "metadata": {},
   "outputs": [],
   "source": [
    "num=int(input(\"Enter a number:\"))\n",
    "temp=num\n",
    "rev=0\n",
    "while(num>0):\n",
    "    dig=num%10\n",
    "    rev=rev*10+dig\n",
    "    num=num//10\n",
    "if(temp==rev):\n",
    "    print(\"The number is palindrome!\")\n",
    "else:\n",
    "    print(\"Not a palindrome!\")"
   ]
  }
 ],
 "metadata": {
  "kernelspec": {
   "display_name": "Python 3 (ipykernel)",
   "language": "python",
   "name": "python3"
  },
  "language_info": {
   "codemirror_mode": {
    "name": "ipython",
    "version": 3
   },
   "file_extension": ".py",
   "mimetype": "text/x-python",
   "name": "python",
   "nbconvert_exporter": "python",
   "pygments_lexer": "ipython3",
   "version": "3.10.9"
  }
 },
 "nbformat": 4,
 "nbformat_minor": 5
}
