{
 "cells": [
  {
   "cell_type": "code",
   "execution_count": 6,
   "id": "96093990",
   "metadata": {},
   "outputs": [
    {
     "name": "stdout",
     "output_type": "stream",
     "text": [
      "4\n",
      "1 2 3 4\n",
      "1\n",
      "3\n",
      "6\n",
      "10\n"
     ]
    }
   ],
   "source": [
    "# Input the number of Integers\n",
    "\n",
    "n = int(input())\n",
    "\n",
    "#Handle the Boundary cases -  (n = 0)\n",
    "\n",
    "if n==0:\n",
    "    print(0)\n",
    "else:\n",
    "    # Input a string of numbers - Which are space seperated\n",
    "    numbersString = input()\n",
    "    \n",
    "    # s is a List of strings - Each element contains one integer as String\n",
    "    s= numbersString.split()\n",
    "    \n",
    "    sum= 0;\n",
    "    \n",
    "    # Iterate through each element in List - 'S' (Iteration - Loop)\n",
    "    for ele in s:\n",
    "            #int(ele) - Convert the String to Integer\n",
    "            \n",
    "            sum = sum + int(ele)\n",
    "            \n",
    "            print(sum)"
   ]
  },
  {
   "cell_type": "markdown",
   "id": "8d84bba5",
   "metadata": {},
   "source": [
    "# Problem 2: Write a Program to find the second largest element in the List."
   ]
  },
  {
   "cell_type": "code",
   "execution_count": null,
   "id": "63f03f46",
   "metadata": {},
   "outputs": [],
   "source": []
  }
 ],
 "metadata": {
  "kernelspec": {
   "display_name": "Python 3 (ipykernel)",
   "language": "python",
   "name": "python3"
  },
  "language_info": {
   "codemirror_mode": {
    "name": "ipython",
    "version": 3
   },
   "file_extension": ".py",
   "mimetype": "text/x-python",
   "name": "python",
   "nbconvert_exporter": "python",
   "pygments_lexer": "ipython3",
   "version": "3.10.9"
  }
 },
 "nbformat": 4,
 "nbformat_minor": 5
}
