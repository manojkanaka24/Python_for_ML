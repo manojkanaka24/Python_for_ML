{
 "cells": [
  {
   "cell_type": "code",
   "execution_count": null,
   "metadata": {},
   "outputs": [],
   "source": [
    "# The blue color outside the cell represents command mode.\n",
    "# And the green color indicates edit mode.\n",
    "# Press 'Esc' to get into command mode.\n",
    "# Press 'Enter' to go back into edit mode.\n",
    "# Press 'P' to view the list of all available commands."
   ]
  },
  {
   "cell_type": "code",
   "execution_count": 3,
   "metadata": {},
   "outputs": [
    {
     "name": "stdout",
     "output_type": "stream",
     "text": [
      "Enter your name: Akshay\n",
      "Hello, Akshay\n"
     ]
    }
   ],
   "source": [
    "# This is a coding cell.\n",
    "# Let's write your first Python program here.\n",
    "\n",
    "Name = input(\"Enter your name: \")\n",
    "print(\"Hello,\", Name)\n",
    "\n",
    "# Press 'Shift + Enter' to execute the cell."
   ]
  },
  {
   "cell_type": "code",
   "execution_count": null,
   "metadata": {},
   "outputs": [],
   "source": [
    "# Writing comments in a code cell can sometimes creates confusion. Jupyter notebook works both as a notebook and a coding console. \n",
    "# To write explanatory texts, you can use a markdown cell which enables you to format your comments well to create a more\n",
    "# readable code.\n",
    "\n",
    "# Let's now learn about markdown cells, then.\n",
    "# Press 'M' in command mode to convert a code cell to a Markdown cell."
   ]
  },
  {
   "cell_type": "markdown",
   "metadata": {},
   "source": [
    "This is a Markdown Cell. Double click on a markdown cell or press 'Enter' to see how it's written. And again, press 'Shift + Enter' to execute the cell.\n",
    "\n",
    "Let's further learn about the various customizations in a markdown cell to create a more readable and understandable code."
   ]
  },
  {
   "cell_type": "markdown",
   "metadata": {},
   "source": [
    "# This is a title\n",
    "## This is a heading\n",
    "### This is a subheading\n",
    "#### This is as small as a heading can get\n",
    "##### The fifth hash makes it Italic. Wow!"
   ]
  },
  {
   "cell_type": "markdown",
   "metadata": {},
   "source": [
    "## Formatting in Markdown cells\n",
    "\n",
    "### Emphasis\n",
    "\n",
    "__\"This will appear bold.\"__\n",
    "\n",
    "**\"So will this.\"**\n",
    "\n",
    "_\"Just one dash makes it italic.\"_\n",
    "\n",
    "*\"And one star on either side as well.\"*\n",
    "\n",
    "***\"This one's both bold and italic.\"***"
   ]
  },
  {
   "cell_type": "markdown",
   "metadata": {},
   "source": [
    "### Monospace Fonts\n",
    "\n",
    "Use a back single quotation mark (\\`) to get monospace fonts.\n",
    "\n",
    "`This text will appear in monospace font.`<br>\n",
    "`Python is a beautiful language.`\n",
    "\n",
    "\n",
    "\n",
    "\n"
   ]
  },
  {
   "cell_type": "markdown",
   "metadata": {},
   "source": [
    "### Line Breaks\n",
    "\n",
    "Sometimes in the markdown cells, you don't get a line break where you want simply by pressing enter. In such cases use `<br>` to get a manual line break.\n",
    "\n",
    "I want a line break here.\n",
    "But I don't get it. :/\n",
    "<br>\n",
    "So I used a manual line break <br>\n",
    "There we go! :)"
   ]
  },
  {
   "cell_type": "markdown",
   "metadata": {},
   "source": [
    "### Indenting\n",
    "\n",
    "Use `>` to indent your text.\n",
    "\n",
    "This is the first line\n",
    "> This indents the second line.\n",
    ">> This further indents it.\n",
    ">>> And this goes on and on."
   ]
  },
  {
   "cell_type": "markdown",
   "metadata": {},
   "source": [
    "### Bullets and Numbering\n",
    "\n",
    "-  A dash followed by two spaces, i.e. `'-  '` creates a bullet.\n",
    "   -  Pressing a tab before doing the above creates a sub-bullet."
   ]
  },
  {
   "cell_type": "markdown",
   "metadata": {},
   "source": [
    "1. Start with a simple `1. ` (1 followed by a dot and a space) to get a numbered list.\n",
    "2. And keep doing it for further numbers.\n",
    "    1. Again, just a tab for the sub-bullet."
   ]
  },
  {
   "cell_type": "markdown",
   "metadata": {},
   "source": [
    "### Coloring\n",
    " \n",
    "-  <font color = blue> This text will be blue. </font>\n",
    "-  <font color = red> I hate this color! </font>"
   ]
  },
  {
   "cell_type": "markdown",
   "metadata": {},
   "source": [
    "### Adding an Image\n",
    "\n",
    "You can add an image from the web by using `<img src = \"image_path\">`\n",
    "<img src = \"https://www.google.com/url?sa=i&url=https%3A%2F%2Fwww.percona.com%2Fblog%2Fmysql-upgrade-best-practices%2F&psig=AOvVaw1Vru3vpXTiaSPNnyqtxaHx&ust=1702706052031000&source=images&cd=vfe&opi=89978449&ved=0CBIQjRxqFwoTCIjH0L3gkIMDFQAAAAAdAAAAABAq\">\n"
   ]
  },
  {
   "cell_type": "code",
   "execution_count": 1,
   "metadata": {},
   "outputs": [
    {
     "ename": "SyntaxError",
     "evalue": "invalid syntax (3948299677.py, line 3)",
     "output_type": "error",
     "traceback": [
      "\u001b[0;36m  Cell \u001b[0;32mIn[1], line 3\u001b[0;36m\u001b[0m\n\u001b[0;31m    Jupyter notebook also supports LaTeX equations. Use a `$` on either side to write a LaTeX equation.\u001b[0m\n\u001b[0m            ^\u001b[0m\n\u001b[0;31mSyntaxError\u001b[0m\u001b[0;31m:\u001b[0m invalid syntax\n"
     ]
    }
   ],
   "source": [
    "### LaTeX Equations\n",
    "\n",
    "Jupyter notebook also supports LaTeX equations. Use a `$` on either side to write a LaTeX equation.\n",
    "\n",
    "The below example is just a hypothetical equation to explain how you can write LaTeX equations in Jupyter notebook. \n",
    "<br>\n",
    "\n",
    "$(\\frac{a_1}{a_2} + \\frac{a_3}{a_4})^2 = a_5^3$\n",
    "\n",
    "Go through this [link](https://en.wikibooks.org/wiki/LaTeX/Mathematics) if you want to learn the LaTeX syntax. "
   ]
  },
  {
   "cell_type": "markdown",
   "metadata": {},
   "source": [
    "### Basic Commands\n",
    "\n",
    "That was all about markdown cells. Now let us take a look at the most useful commands that you require everyday while coding in the Jupyter notebook.\n",
    "\n",
    "#### Command Mode Shortcuts\n",
    "-  `Esc`: To go into command mode\n",
    "-  `Enter`: To go back to edit mode\n",
    "-  `M`: To convert a cell to a markdown cell\n",
    "-  `Y`: To convert a cell back to a code cell\n",
    "-  `A`: To insert new cell above\n",
    "-  `B`: To insert new cell below\n",
    "-  `D + D`: To delete cell\n",
    "-  `Z`: Undo last operation\n",
    "-  `F`: To find and replace on your code\n",
    "-  `Shift + Up/Down`: To select multiple cells\n",
    "-  `Space`: Scroll notebook downwards\n",
    "-  `Shift + Space`: Scroll notebook upwards\n",
    "\n",
    "#### Edit Mode Shortcuts\n",
    "-  `Shift + Enter`: To execute the code in the current cell and go to the next cell\n",
    "-  `Alt + Enter`: To execute the code in the current cell and insert new cell below\n",
    "-  `Shift + Tab`: To get a brief documentation of the object that you have just typed in the coding cell\n",
    "-  `Ctrl + Shift + -`: To split the cell at cursor\n",
    "-  `Shift + M`: To merge selected cells\n",
    "\n",
    "Apart from this, you can also use `H` to open the list of keyboard shortcuts and even add new shortcuts or customize the existing shorcuts according to your personal requirements.\n",
    "\n",
    "\n",
    "\n",
    "\n",
    "\n",
    "\n",
    "\n",
    "\n",
    "\n",
    "\n",
    "\n",
    "\n",
    "\n",
    "\n",
    "\n",
    "\n",
    "\n",
    "\n",
    "\n",
    "\n"
   ]
  },
  {
   "cell_type": "code",
   "execution_count": null,
   "metadata": {},
   "outputs": [],
   "source": []
  },
  {
   "cell_type": "code",
   "execution_count": null,
   "metadata": {},
   "outputs": [],
   "source": []
  }
 ],
 "metadata": {
  "kernelspec": {
   "display_name": "Python 3 (ipykernel)",
   "language": "python",
   "name": "python3"
  },
  "language_info": {
   "codemirror_mode": {
    "name": "ipython",
    "version": 3
   },
   "file_extension": ".py",
   "mimetype": "text/x-python",
   "name": "python",
   "nbconvert_exporter": "python",
   "pygments_lexer": "ipython3",
   "version": "3.10.9"
  }
 },
 "nbformat": 4,
 "nbformat_minor": 2
}
