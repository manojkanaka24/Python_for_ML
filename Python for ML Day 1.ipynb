{
 "cells": [
  {
   "cell_type": "markdown",
   "id": "9c1e1795",
   "metadata": {},
   "source": [
    "# Variable\n",
    "   "
   ]
  },
  {
   "cell_type": "code",
   "execution_count": 6,
   "id": "6547c195",
   "metadata": {},
   "outputs": [
    {
     "name": "stdout",
     "output_type": "stream",
     "text": [
      "Manoj\n"
     ]
    }
   ],
   "source": [
    "name = 'Manoj'\n",
    "print(name)"
   ]
  },
  {
   "cell_type": "code",
   "execution_count": 8,
   "id": "d663e007",
   "metadata": {},
   "outputs": [
    {
     "name": "stdout",
     "output_type": "stream",
     "text": [
      "Enter your namemanoj\n",
      "Welcome manoj\n"
     ]
    }
   ],
   "source": [
    "name = input('Enter your name')\n",
    "print('Welcome', name)"
   ]
  },
  {
   "cell_type": "markdown",
   "id": "ac4fbb39",
   "metadata": {},
   "source": [
    "# Data types"
   ]
  },
  {
   "cell_type": "code",
   "execution_count": 20,
   "id": "4bdd9e93",
   "metadata": {},
   "outputs": [
    {
     "name": "stdout",
     "output_type": "stream",
     "text": [
      "<class 'int'>\n",
      "<class 'float'>\n",
      "<class 'str'>\n",
      "<class 'bool'>\n"
     ]
    }
   ],
   "source": [
    "integer = 1\n",
    "floating = 2.0\n",
    "string = 'manoj'\n",
    "boolean = True\n",
    "\n",
    "print (type(integer))\n",
    "print (type(floating))\n",
    "print  (type(string))\n",
    "print   (type(boolean))\n"
   ]
  },
  {
   "cell_type": "code",
   "execution_count": 22,
   "id": "7eb89621",
   "metadata": {},
   "outputs": [
    {
     "data": {
      "text/plain": [
       "2"
      ]
     },
     "execution_count": 22,
     "metadata": {},
     "output_type": "execute_result"
    }
   ],
   "source": [
    "a = str(1)\n",
    "1 + int(str(1))\n"
   ]
  },
  {
   "cell_type": "code",
   "execution_count": 23,
   "id": "2d8b7287",
   "metadata": {},
   "outputs": [
    {
     "data": {
      "text/plain": [
       "2"
      ]
     },
     "execution_count": 23,
     "metadata": {},
     "output_type": "execute_result"
    }
   ],
   "source": [
    "a = str(1)\n",
    "1 + int(str(1))\n"
   ]
  },
  {
   "cell_type": "markdown",
   "id": "f4870223",
   "metadata": {},
   "source": [
    "# Arithmatic Operations"
   ]
  },
  {
   "cell_type": "code",
   "execution_count": 26,
   "id": "d86be8db",
   "metadata": {},
   "outputs": [
    {
     "name": "stdout",
     "output_type": "stream",
     "text": [
      "Addition  7\n",
      "Subtraction   -3\n",
      "Multipication  10\n",
      "Division  0.4\n"
     ]
    }
   ],
   "source": [
    "a = 2\n",
    "b = 5\n",
    "print ('Addition ' , a + b)\n",
    "print('Subtraction  ' , a - b)\n",
    "print ('Multipication ' , a * b)\n",
    "print ('Division ' , a / b)"
   ]
  },
  {
   "cell_type": "code",
   "execution_count": 29,
   "id": "1eaa9080",
   "metadata": {},
   "outputs": [
    {
     "name": "stdout",
     "output_type": "stream",
     "text": [
      "mano\n"
     ]
    }
   ],
   "source": [
    "Name = \"manoj kanaka dh 12345\"\n",
    "print(name[0:4])"
   ]
  },
  {
   "cell_type": "code",
   "execution_count": 33,
   "id": "c5b4e231",
   "metadata": {},
   "outputs": [
    {
     "name": "stdout",
     "output_type": "stream",
     "text": [
      "2468\n"
     ]
    }
   ],
   "source": [
    "numbers = '123456789'\n",
    "print(numbers[1::2])"
   ]
  },
  {
   "cell_type": "code",
   "execution_count": 36,
   "id": "6caf4c2d",
   "metadata": {},
   "outputs": [
    {
     "name": "stdout",
     "output_type": "stream",
     "text": [
      "abcdabcdabcdabcd\n"
     ]
    }
   ],
   "source": [
    "string = 'abcd'\n",
    "print(string*4)"
   ]
  },
  {
   "cell_type": "code",
   "execution_count": 38,
   "id": "962fad6f",
   "metadata": {},
   "outputs": [
    {
     "name": "stdout",
     "output_type": "stream",
     "text": [
      "I AM MANOJ KANAKA \n"
     ]
    }
   ],
   "source": [
    "name = 'i am manoj kanaka '\n",
    "print(name.upper())"
   ]
  },
  {
   "cell_type": "code",
   "execution_count": 41,
   "id": "6c3e75de",
   "metadata": {},
   "outputs": [
    {
     "name": "stdout",
     "output_type": "stream",
     "text": [
      "i am manoj.\n"
     ]
    }
   ],
   "source": [
    "name = 'i am manoj.      '\n",
    "print(name.rstrip())"
   ]
  },
  {
   "cell_type": "code",
   "execution_count": 42,
   "id": "9d454a63",
   "metadata": {},
   "outputs": [
    {
     "name": "stdout",
     "output_type": "stream",
     "text": [
      "4\n"
     ]
    }
   ],
   "source": [
    "num = '4#'\n",
    "print(num.strip('#'))"
   ]
  }
 ],
 "metadata": {
  "kernelspec": {
   "display_name": "Python 3 (ipykernel)",
   "language": "python",
   "name": "python3"
  },
  "language_info": {
   "codemirror_mode": {
    "name": "ipython",
    "version": 3
   },
   "file_extension": ".py",
   "mimetype": "text/x-python",
   "name": "python",
   "nbconvert_exporter": "python",
   "pygments_lexer": "ipython3",
   "version": "3.10.9"
  }
 },
 "nbformat": 4,
 "nbformat_minor": 5
}
